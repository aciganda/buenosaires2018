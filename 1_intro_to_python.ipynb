{
  "nbformat": 4,
  "nbformat_minor": 0,
  "metadata": {
    "colab": {
      "name": "1_intro_to_python",
      "version": "0.3.2",
      "provenance": [],
      "collapsed_sections": []
    },
    "kernelspec": {
      "name": "python3",
      "display_name": "Python 3"
    }
  },
  "cells": [
    {
      "cell_type": "markdown",
      "metadata": {
        "id": "view-in-github",
        "colab_type": "text"
      },
      "source": [
        "[View in Colaboratory](https://colab.research.google.com/github/aciganda/buenosaires2018/blob/master/1_intro_to_python.ipynb)"
      ]
    },
    {
      "metadata": {
        "id": "MVlG3K8qxgy5",
        "colab_type": "text"
      },
      "cell_type": "markdown",
      "source": [
        "# Programming in Python"
      ]
    },
    {
      "metadata": {
        "id": "_7Lz3V4XxyU0",
        "colab_type": "text"
      },
      "cell_type": "markdown",
      "source": [
        "In this part of the workshop, we will introduce some basic programming concepts in Python. We will then explore how these concepts allow us to carry out an anlysis that can be reproduced."
      ]
    },
    {
      "metadata": {
        "id": "iRPhL5kfzW8G",
        "colab_type": "text"
      },
      "cell_type": "markdown",
      "source": [
        "## Working with variables"
      ]
    },
    {
      "metadata": {
        "id": "IoZiyZcdzuoU",
        "colab_type": "text"
      },
      "cell_type": "markdown",
      "source": [
        "You can get output from Python by typing math into a code cell. Try executing a sum below (for example: 3 + 5)."
      ]
    },
    {
      "metadata": {
        "id": "erH-YTwfxuRn",
        "colab_type": "code",
        "colab": {
          "base_uri": "https://localhost:8080/",
          "height": 34
        },
        "outputId": "ddd60538-411c-45b2-ae2b-1020d04e7c7b"
      },
      "cell_type": "code",
      "source": [
        "#@title Texto de título predeterminado\n",
        "3+5"
      ],
      "execution_count": 1,
      "outputs": [
        {
          "output_type": "execute_result",
          "data": {
            "text/plain": [
              "8"
            ]
          },
          "metadata": {
            "tags": []
          },
          "execution_count": 1
        }
      ]
    },
    {
      "metadata": {
        "id": "zT_Z6kRDkSTv",
        "colab_type": "code",
        "colab": {
          "base_uri": "https://localhost:8080/",
          "height": 34
        },
        "outputId": "5455235f-5e5c-4a42-ff0e-0f6a40f2e004"
      },
      "cell_type": "code",
      "source": [
        "971*54"
      ],
      "execution_count": 2,
      "outputs": [
        {
          "output_type": "execute_result",
          "data": {
            "text/plain": [
              "52434"
            ]
          },
          "metadata": {
            "tags": []
          },
          "execution_count": 2
        }
      ]
    },
    {
      "metadata": {
        "id": "w6SnVmgf0EWo",
        "colab_type": "text"
      },
      "cell_type": "markdown",
      "source": [
        "However, to do anything useful, we will need to assign values to `variables`. Assign a height in cm to a variable in the cell below."
      ]
    },
    {
      "metadata": {
        "id": "lcNstJrz0fBK",
        "colab_type": "code",
        "colab": {
          "base_uri": "https://localhost:8080/",
          "height": 17
        },
        "outputId": "2dd7f67f-1d0c-4b45-b37c-74870c8586d3"
      },
      "cell_type": "code",
      "source": [
        "height_cm = 180"
      ],
      "execution_count": 3,
      "outputs": []
    },
    {
      "metadata": {
        "id": "eGu0U_Gx0qru",
        "colab_type": "text"
      },
      "cell_type": "markdown",
      "source": [
        "Now the value has been assigned to our variable, we can print it in the console with `print`."
      ]
    },
    {
      "metadata": {
        "id": "IE-rDEu50kS0",
        "colab_type": "code",
        "colab": {
          "base_uri": "https://localhost:8080/",
          "height": 34
        },
        "outputId": "50b5145b-a4d3-48ce-c21f-a7bd969d5669"
      },
      "cell_type": "code",
      "source": [
        "print('Height in cm is:', height_cm)"
      ],
      "execution_count": 4,
      "outputs": [
        {
          "output_type": "stream",
          "text": [
            "Height in cm is: 180\n"
          ],
          "name": "stdout"
        }
      ]
    },
    {
      "metadata": {
        "id": "21uyFCU_kxN7",
        "colab_type": "code",
        "colab": {
          "base_uri": "https://localhost:8080/",
          "height": 34
        },
        "outputId": "a6071dca-d1e8-4237-960f-4d1b4c72ef77"
      },
      "cell_type": "code",
      "source": [
        "x=20\n",
        "print(x)"
      ],
      "execution_count": 6,
      "outputs": [
        {
          "output_type": "stream",
          "text": [
            "20\n"
          ],
          "name": "stdout"
        }
      ]
    },
    {
      "metadata": {
        "id": "sPpkx49U1jHZ",
        "colab_type": "text"
      },
      "cell_type": "markdown",
      "source": [
        "We can also do arithmetic with the variable. Convert the height in cm to metres, then print the new value as before (Warning! In Python 2, dividing an integer by an integer will return an integer.)"
      ]
    },
    {
      "metadata": {
        "id": "7FKAojzX07BA",
        "colab_type": "code",
        "colab": {
          "base_uri": "https://localhost:8080/",
          "height": 34
        },
        "outputId": "ee966e80-7190-486e-b518-ce22370ede51"
      },
      "cell_type": "code",
      "source": [
        "height_m = height_cm / 100\n",
        "print('height in metres:',height_m)"
      ],
      "execution_count": 7,
      "outputs": [
        {
          "output_type": "stream",
          "text": [
            "height in metres: 1.8\n"
          ],
          "name": "stdout"
        }
      ]
    },
    {
      "metadata": {
        "id": "7uxQcj-S1pSI",
        "colab_type": "text"
      },
      "cell_type": "markdown",
      "source": [
        "We can check which variables are available in memory with the special command: `%whos`"
      ]
    },
    {
      "metadata": {
        "id": "oq_2EYHn2a48",
        "colab_type": "code",
        "colab": {
          "base_uri": "https://localhost:8080/",
          "height": 101
        },
        "outputId": "3da4c667-383a-4318-9b59-bb3b48c7a99a"
      },
      "cell_type": "code",
      "source": [
        "%whos"
      ],
      "execution_count": 8,
      "outputs": [
        {
          "output_type": "stream",
          "text": [
            "Variable    Type     Data/Info\n",
            "------------------------------\n",
            "height_cm   int      180\n",
            "height_m    float    1.8\n",
            "x           int      20\n"
          ],
          "name": "stdout"
        }
      ]
    },
    {
      "metadata": {
        "id": "Vol2L0iZ2p4A",
        "colab_type": "text"
      },
      "cell_type": "markdown",
      "source": [
        "We can see that each of our variables has a type (in this case `int` and `float`), describing the type of data held by the variable. We can use `type` to check the data type of a variable."
      ]
    },
    {
      "metadata": {
        "id": "D8-z9zqU2bzV",
        "colab_type": "code",
        "colab": {
          "base_uri": "https://localhost:8080/",
          "height": 34
        },
        "outputId": "2d539b52-2c28-408e-f035-92b741cc33d2"
      },
      "cell_type": "code",
      "source": [
        "type(height_cm)"
      ],
      "execution_count": 9,
      "outputs": [
        {
          "output_type": "execute_result",
          "data": {
            "text/plain": [
              "int"
            ]
          },
          "metadata": {
            "tags": []
          },
          "execution_count": 9
        }
      ]
    },
    {
      "metadata": {
        "id": "OKYLf5d93Yz8",
        "colab_type": "text"
      },
      "cell_type": "markdown",
      "source": [
        "Another data type is a `list`, which can hold a series of items. For example, we might measure a patient's heart rate several times over a period. "
      ]
    },
    {
      "metadata": {
        "id": "hoRS1QIC25vd",
        "colab_type": "code",
        "colab": {
          "base_uri": "https://localhost:8080/",
          "height": 17
        },
        "outputId": "0815716b-b5fc-469a-91cb-8488d1949cd3"
      },
      "cell_type": "code",
      "source": [
        "heartrate = [66,64,63,62,66,69,70,75,76]"
      ],
      "execution_count": 10,
      "outputs": []
    },
    {
      "metadata": {
        "id": "HMofVUZc4Kkm",
        "colab_type": "code",
        "colab": {
          "base_uri": "https://localhost:8080/",
          "height": 34
        },
        "outputId": "4113d695-5e1c-4abc-a3bf-a3c00c63f76c"
      },
      "cell_type": "code",
      "source": [
        "print(heartrate)"
      ],
      "execution_count": 11,
      "outputs": [
        {
          "output_type": "stream",
          "text": [
            "[66, 64, 63, 62, 66, 69, 70, 75, 76]\n"
          ],
          "name": "stdout"
        }
      ]
    },
    {
      "metadata": {
        "id": "pQsUlVZ44G9w",
        "colab_type": "code",
        "colab": {
          "base_uri": "https://localhost:8080/",
          "height": 34
        },
        "outputId": "2685d9a0-444d-4f55-d8a3-a77261987779"
      },
      "cell_type": "code",
      "source": [
        "type(heartrate)"
      ],
      "execution_count": 12,
      "outputs": [
        {
          "output_type": "execute_result",
          "data": {
            "text/plain": [
              "list"
            ]
          },
          "metadata": {
            "tags": []
          },
          "execution_count": 12
        }
      ]
    },
    {
      "metadata": {
        "id": "9bBpEACgmhdA",
        "colab_type": "code",
        "colab": {
          "base_uri": "https://localhost:8080/",
          "height": 34
        },
        "outputId": "a10928c9-efcd-4aae-a8d1-e3988e93ffb1"
      },
      "cell_type": "code",
      "source": [
        "x=\"3\"\n",
        "y=2\n",
        "z=x*y\n",
        "print(z)"
      ],
      "execution_count": 17,
      "outputs": [
        {
          "output_type": "stream",
          "text": [
            "33\n"
          ],
          "name": "stdout"
        }
      ]
    },
    {
      "metadata": {
        "id": "o8ZLP_Yi4WC4",
        "colab_type": "text"
      },
      "cell_type": "markdown",
      "source": [
        "## Repeating actions in loops"
      ]
    },
    {
      "metadata": {
        "id": "Z8nHLhoC4qvC",
        "colab_type": "text"
      },
      "cell_type": "markdown",
      "source": [
        "We can access individual items in a list using an index (note, in Python, indexing begins with 0!). For example, let's view the first `[0]` and second `[1]` heart rate measurements."
      ]
    },
    {
      "metadata": {
        "id": "qrf_C_ju4PDi",
        "colab_type": "code",
        "colab": {
          "base_uri": "https://localhost:8080/",
          "height": 34
        },
        "outputId": "120ebb5c-54e8-450a-b3bb-5df95abdd59d"
      },
      "cell_type": "code",
      "source": [
        "print(heartrate[0])"
      ],
      "execution_count": 13,
      "outputs": [
        {
          "output_type": "stream",
          "text": [
            "66\n"
          ],
          "name": "stdout"
        }
      ]
    },
    {
      "metadata": {
        "id": "Ot4nlKz45IR8",
        "colab_type": "code",
        "colab": {
          "base_uri": "https://localhost:8080/",
          "height": 34
        },
        "outputId": "de9802b9-9caf-4e5f-c628-12d7452a3638"
      },
      "cell_type": "code",
      "source": [
        "print(heartrate[1])"
      ],
      "execution_count": 14,
      "outputs": [
        {
          "output_type": "stream",
          "text": [
            "64\n"
          ],
          "name": "stdout"
        }
      ]
    },
    {
      "metadata": {
        "id": "rnkqGV8M5PA2",
        "colab_type": "text"
      },
      "cell_type": "markdown",
      "source": [
        "We can iterate through a list with the help of a `for` loop. Let's try looping over our list of heart rates, printing each item as we go."
      ]
    },
    {
      "metadata": {
        "id": "GoRQm5zQ5Lfo",
        "colab_type": "code",
        "colab": {
          "base_uri": "https://localhost:8080/",
          "height": 168
        },
        "outputId": "adc8947e-195e-4e4e-8f30-3ad5df561ec5"
      },
      "cell_type": "code",
      "source": [
        "for i in heartrate:\n",
        "    print('the heart rate is:', i)"
      ],
      "execution_count": 15,
      "outputs": [
        {
          "output_type": "stream",
          "text": [
            "the heart rate is: 66\n",
            "the heart rate is: 64\n",
            "the heart rate is: 63\n",
            "the heart rate is: 62\n",
            "the heart rate is: 66\n",
            "the heart rate is: 69\n",
            "the heart rate is: 70\n",
            "the heart rate is: 75\n",
            "the heart rate is: 76\n"
          ],
          "name": "stdout"
        }
      ]
    },
    {
      "metadata": {
        "id": "pxtldH0p6O2n",
        "colab_type": "text"
      },
      "cell_type": "markdown",
      "source": [
        "## Making choices"
      ]
    },
    {
      "metadata": {
        "id": "ewr9OD256ZUB",
        "colab_type": "text"
      },
      "cell_type": "markdown",
      "source": [
        "Sometimes we want to take different actions depending on a set of conditions. We can do this using an `if/else` statement. Let's write a statement to test if a mean arterial pressure (`meanpressure`) is high or low."
      ]
    },
    {
      "metadata": {
        "id": "EUYw8jac5obn",
        "colab_type": "code",
        "colab": {
          "base_uri": "https://localhost:8080/",
          "height": 34
        },
        "outputId": "5ea46bc3-2249-4e44-db2c-53eb249d2619"
      },
      "cell_type": "code",
      "source": [
        "meanpressure = 70\n",
        "\n",
        "if meanpressure < 60:\n",
        "    print('Low pressure')\n",
        "elif meanpressure > 100:\n",
        "    print('High pressure')\n",
        "else:\n",
        "    print('Normal pressure')"
      ],
      "execution_count": 16,
      "outputs": [
        {
          "output_type": "stream",
          "text": [
            "Normal pressure\n"
          ],
          "name": "stdout"
        }
      ]
    },
    {
      "metadata": {
        "id": "NtZu94Zf9Sdm",
        "colab_type": "text"
      },
      "cell_type": "markdown",
      "source": [
        "## Writing our own functions"
      ]
    },
    {
      "metadata": {
        "id": "pOLj0Jto9XeO",
        "colab_type": "text"
      },
      "cell_type": "markdown",
      "source": [
        "To help organise our code and to avoid replicating the same code again and again, we can create functions. \n",
        "\n",
        "Let's create a function to convert temperature in fahrenheit to celsius, using the following formula:\n",
        "\n",
        "`celsius = (fahrenheit - 32) * 5/9`"
      ]
    },
    {
      "metadata": {
        "id": "JD2KOyjf83ry",
        "colab_type": "code",
        "colab": {
          "base_uri": "https://localhost:8080/",
          "height": 17
        },
        "outputId": "bed7bc53-41ff-4d8b-f06a-4bcffbd0cf15"
      },
      "cell_type": "code",
      "source": [
        "def fahr_to_celsius(temp):\n",
        "  celsius = (temp - 32) * 5/9\n",
        "  return celsius\n",
        "    "
      ],
      "execution_count": 34,
      "outputs": []
    },
    {
      "metadata": {
        "id": "U4FyfcpSpDXI",
        "colab_type": "code",
        "colab": {
          "base_uri": "https://localhost:8080/",
          "height": 17
        },
        "outputId": "af4b08a9-dea2-4e55-df17-f84192b11382"
      },
      "cell_type": "code",
      "source": [
        "def celsius_to_fahr(temp):\n",
        "  fahr = temp * 9/5 + 32\n",
        "  return fahr"
      ],
      "execution_count": 40,
      "outputs": []
    },
    {
      "metadata": {
        "id": "EsJN-6KqpUEj",
        "colab_type": "code",
        "colab": {
          "base_uri": "https://localhost:8080/",
          "height": 34
        },
        "outputId": "062178df-769c-4d2b-fb33-cd5e9e2fe1a9"
      },
      "cell_type": "code",
      "source": [
        "celsius_to_fahr(65)"
      ],
      "execution_count": 41,
      "outputs": [
        {
          "output_type": "execute_result",
          "data": {
            "text/plain": [
              "149.0"
            ]
          },
          "metadata": {
            "tags": []
          },
          "execution_count": 41
        }
      ]
    },
    {
      "metadata": {
        "id": "u7wapxNcpC0F",
        "colab_type": "code",
        "colab": {
          "base_uri": "https://localhost:8080/",
          "height": 34
        },
        "outputId": "f86afb6d-86d9-483e-cbeb-4287b6461f36"
      },
      "cell_type": "code",
      "source": [
        "celsius_to_fahr(0)"
      ],
      "execution_count": 42,
      "outputs": [
        {
          "output_type": "execute_result",
          "data": {
            "text/plain": [
              "32.0"
            ]
          },
          "metadata": {
            "tags": []
          },
          "execution_count": 42
        }
      ]
    },
    {
      "metadata": {
        "id": "yq8cx3JA-34T",
        "colab_type": "text"
      },
      "cell_type": "markdown",
      "source": [
        "Now we can call the function `fahr_to_celsius` to convert a temperature from celsius to fahrenheit.\n",
        "\n"
      ]
    },
    {
      "metadata": {
        "id": "RvIyFKcD-AhD",
        "colab_type": "code",
        "colab": {
          "base_uri": "https://localhost:8080/",
          "height": 34
        },
        "outputId": "eb310a9e-e123-491d-950f-da747169b5ac"
      },
      "cell_type": "code",
      "source": [
        "body_temp_f = 98.6\n",
        "body_temp_c = fahr_to_celsius(body_temp_f)\n",
        "print('Patient body temperature is:', body_temp_c, 'celsius')"
      ],
      "execution_count": 19,
      "outputs": [
        {
          "output_type": "stream",
          "text": [
            "Patient body temperature is: 37.0 celsius\n"
          ],
          "name": "stdout"
        }
      ]
    },
    {
      "metadata": {
        "id": "YNhdu10RArbJ",
        "colab_type": "text"
      },
      "cell_type": "markdown",
      "source": [
        "## Reusing code with libraries"
      ]
    },
    {
      "metadata": {
        "id": "axG6R47bAyy3",
        "colab_type": "text"
      },
      "cell_type": "markdown",
      "source": [
        "Python is a popular language for data analysis, so thankfully we can benefit from the hard work of others with the use of libraries. Pandas, a popular library for data analysis, introduces the `DataFrame`, a convenient data structure similar to a spreadsheet. Before using a library, we will need to import it."
      ]
    },
    {
      "metadata": {
        "id": "RGSZUAsd_S6q",
        "colab_type": "code",
        "colab": {
          "base_uri": "https://localhost:8080/",
          "height": 17
        },
        "outputId": "91b5c436-6cec-401d-eadc-ef92bfe0de26"
      },
      "cell_type": "code",
      "source": [
        "# let's assign pandas an alias, pd, for brevity\n",
        "import pandas as pd"
      ],
      "execution_count": 20,
      "outputs": []
    },
    {
      "metadata": {
        "id": "CfThlgz-CXf2",
        "colab_type": "text"
      },
      "cell_type": "markdown",
      "source": [
        "We have shared a demo dataset online containing physiological data relating to 1000 patients admitted to an intensive care unit in Boston, Massachussetts, USA. Let's load this data into our new data structure.\n"
      ]
    },
    {
      "metadata": {
        "id": "DZLx3qVCBtRb",
        "colab_type": "code",
        "colab": {
          "base_uri": "https://localhost:8080/",
          "height": 17
        },
        "outputId": "c3d8533a-243a-468d-9ad1-a209eb1cfdff"
      },
      "cell_type": "code",
      "source": [
        "url=\"https://raw.githubusercontent.com/tompollard/tableone/master/data/pn2012_demo.csv\"\n",
        "data=pd.read_csv(url)"
      ],
      "execution_count": 22,
      "outputs": []
    },
    {
      "metadata": {
        "id": "6aCiXFVpCzB9",
        "colab_type": "text"
      },
      "cell_type": "markdown",
      "source": [
        "The variable `data` should now contain our new dataset. Let's view the first few rows using `head()`. Note: parentheses `\"()\"` are generally required when we are performing an action/operation. In this case, the action is to select a limited number of rows."
      ]
    },
    {
      "metadata": {
        "id": "dIwFtenWCwwd",
        "colab_type": "code",
        "colab": {
          "base_uri": "https://localhost:8080/",
          "height": 195
        },
        "outputId": "6c19edca-2547-4973-9dc9-177f3a1a6472"
      },
      "cell_type": "code",
      "source": [
        "data.head()"
      ],
      "execution_count": 23,
      "outputs": [
        {
          "output_type": "execute_result",
          "data": {
            "text/html": [
              "<div>\n",
              "<style scoped>\n",
              "    .dataframe tbody tr th:only-of-type {\n",
              "        vertical-align: middle;\n",
              "    }\n",
              "\n",
              "    .dataframe tbody tr th {\n",
              "        vertical-align: top;\n",
              "    }\n",
              "\n",
              "    .dataframe thead th {\n",
              "        text-align: right;\n",
              "    }\n",
              "</style>\n",
              "<table border=\"1\" class=\"dataframe\">\n",
              "  <thead>\n",
              "    <tr style=\"text-align: right;\">\n",
              "      <th></th>\n",
              "      <th>Age</th>\n",
              "      <th>SysABP</th>\n",
              "      <th>Height</th>\n",
              "      <th>Weight</th>\n",
              "      <th>ICU</th>\n",
              "      <th>MechVent</th>\n",
              "      <th>LOS</th>\n",
              "      <th>death</th>\n",
              "    </tr>\n",
              "  </thead>\n",
              "  <tbody>\n",
              "    <tr>\n",
              "      <th>0</th>\n",
              "      <td>54</td>\n",
              "      <td>NaN</td>\n",
              "      <td>NaN</td>\n",
              "      <td>NaN</td>\n",
              "      <td>SICU</td>\n",
              "      <td>0</td>\n",
              "      <td>5</td>\n",
              "      <td>0</td>\n",
              "    </tr>\n",
              "    <tr>\n",
              "      <th>1</th>\n",
              "      <td>76</td>\n",
              "      <td>105.0</td>\n",
              "      <td>175.3</td>\n",
              "      <td>80.6</td>\n",
              "      <td>CSRU</td>\n",
              "      <td>1</td>\n",
              "      <td>8</td>\n",
              "      <td>0</td>\n",
              "    </tr>\n",
              "    <tr>\n",
              "      <th>2</th>\n",
              "      <td>44</td>\n",
              "      <td>148.0</td>\n",
              "      <td>NaN</td>\n",
              "      <td>56.7</td>\n",
              "      <td>MICU</td>\n",
              "      <td>0</td>\n",
              "      <td>19</td>\n",
              "      <td>0</td>\n",
              "    </tr>\n",
              "    <tr>\n",
              "      <th>3</th>\n",
              "      <td>68</td>\n",
              "      <td>NaN</td>\n",
              "      <td>180.3</td>\n",
              "      <td>84.6</td>\n",
              "      <td>MICU</td>\n",
              "      <td>0</td>\n",
              "      <td>9</td>\n",
              "      <td>0</td>\n",
              "    </tr>\n",
              "    <tr>\n",
              "      <th>4</th>\n",
              "      <td>88</td>\n",
              "      <td>NaN</td>\n",
              "      <td>NaN</td>\n",
              "      <td>NaN</td>\n",
              "      <td>MICU</td>\n",
              "      <td>0</td>\n",
              "      <td>4</td>\n",
              "      <td>0</td>\n",
              "    </tr>\n",
              "  </tbody>\n",
              "</table>\n",
              "</div>"
            ],
            "text/plain": [
              "   Age  SysABP  Height  Weight   ICU  MechVent  LOS  death\n",
              "0   54     NaN     NaN     NaN  SICU         0    5      0\n",
              "1   76   105.0   175.3    80.6  CSRU         1    8      0\n",
              "2   44   148.0     NaN    56.7  MICU         0   19      0\n",
              "3   68     NaN   180.3    84.6  MICU         0    9      0\n",
              "4   88     NaN     NaN     NaN  MICU         0    4      0"
            ]
          },
          "metadata": {
            "tags": []
          },
          "execution_count": 23
        }
      ]
    },
    {
      "metadata": {
        "id": "rW1KhsD5E6Ix",
        "colab_type": "text"
      },
      "cell_type": "markdown",
      "source": [
        "We can perform other operations on the dataframe. For example, using `mean()` to get an average of the columns."
      ]
    },
    {
      "metadata": {
        "id": "Uard_dDXFJzP",
        "colab_type": "code",
        "colab": {
          "base_uri": "https://localhost:8080/",
          "height": 151
        },
        "outputId": "a69f0227-72b9-4d1c-f91d-daaecb7f6bc5"
      },
      "cell_type": "code",
      "source": [
        "data.mean()"
      ],
      "execution_count": 24,
      "outputs": [
        {
          "output_type": "execute_result",
          "data": {
            "text/plain": [
              "Age          65.045000\n",
              "SysABP      114.253879\n",
              "Height      170.094476\n",
              "Weight       82.933954\n",
              "MechVent      0.460000\n",
              "LOS          14.164000\n",
              "death         0.136000\n",
              "dtype: float64"
            ]
          },
          "metadata": {
            "tags": []
          },
          "execution_count": 24
        }
      ]
    },
    {
      "metadata": {
        "id": "U7HfllpfGsgn",
        "colab_type": "text"
      },
      "cell_type": "markdown",
      "source": [
        "If we are unsure of the meaning of a method, we can check by adding `?` after the method. For example, what is `max`?"
      ]
    },
    {
      "metadata": {
        "id": "ZvxQ_FjvGpV1",
        "colab_type": "code",
        "colab": {
          "base_uri": "https://localhost:8080/",
          "height": 17
        },
        "outputId": "2367f773-6722-4497-cccf-3cfce259207f"
      },
      "cell_type": "code",
      "source": [
        "data.max?"
      ],
      "execution_count": 26,
      "outputs": []
    },
    {
      "metadata": {
        "id": "d3n1vAiQFM9G",
        "colab_type": "code",
        "colab": {
          "base_uri": "https://localhost:8080/",
          "height": 168
        },
        "outputId": "637121b7-7885-4f04-d1df-b7a4a2337352"
      },
      "cell_type": "code",
      "source": [
        "data.max()"
      ],
      "execution_count": 27,
      "outputs": [
        {
          "output_type": "execute_result",
          "data": {
            "text/plain": [
              "Age            90\n",
              "SysABP        221\n",
              "Height      406.4\n",
              "Weight        202\n",
              "ICU          SICU\n",
              "MechVent        1\n",
              "LOS           154\n",
              "death           1\n",
              "dtype: object"
            ]
          },
          "metadata": {
            "tags": []
          },
          "execution_count": 27
        }
      ]
    },
    {
      "metadata": {
        "id": "xf81EvBXCzFS",
        "colab_type": "text"
      },
      "cell_type": "markdown",
      "source": [
        "We can access a single column in the data by specifying the column name after the variable. For example, we can select a list of ages with `data.Age`, and then find the mean for this column in a similar way to before."
      ]
    },
    {
      "metadata": {
        "id": "O_L2gBM1DziZ",
        "colab_type": "code",
        "colab": {
          "base_uri": "https://localhost:8080/",
          "height": 34
        },
        "outputId": "8224af5e-1ace-4840-81e1-d720503b291b"
      },
      "cell_type": "code",
      "source": [
        "print('The mean age of patients is:', data.Age.mean())"
      ],
      "execution_count": 28,
      "outputs": [
        {
          "output_type": "stream",
          "text": [
            "The mean age of patients is: 65.045\n"
          ],
          "name": "stdout"
        }
      ]
    },
    {
      "metadata": {
        "id": "EX2khCQgFvmU",
        "colab_type": "text"
      },
      "cell_type": "markdown",
      "source": [
        "Pandas also provides a convenient method `plot` for plotting data. Let's plot a distribution of the patient ages in our dataset."
      ]
    },
    {
      "metadata": {
        "id": "8SSspK1CozvY",
        "colab_type": "code",
        "colab": {
          "base_uri": "https://localhost:8080/",
          "height": 34
        },
        "outputId": "ba9f4561-a38a-4a75-d845-6bb4f3fc0332"
      },
      "cell_type": "code",
      "source": [
        "fahr_to_celsius(150)"
      ],
      "execution_count": 32,
      "outputs": [
        {
          "output_type": "execute_result",
          "data": {
            "text/plain": [
              "65.55555555555556"
            ]
          },
          "metadata": {
            "tags": []
          },
          "execution_count": 32
        }
      ]
    },
    {
      "metadata": {
        "id": "pm7BCXrTozem",
        "colab_type": "code",
        "colab": {}
      },
      "cell_type": "code",
      "source": [
        ""
      ],
      "execution_count": 0,
      "outputs": []
    },
    {
      "metadata": {
        "id": "3WBLYL5JHSiu",
        "colab_type": "code",
        "colab": {
          "base_uri": "https://localhost:8080/",
          "height": 17
        },
        "outputId": "aa5ebed8-26fd-4559-9e0d-db9377c3c6ca"
      },
      "cell_type": "code",
      "source": [
        "data.Age.plot(kind='line', title='Age of patients in years')"
      ],
      "execution_count": 51,
      "outputs": []
    },
    {
      "metadata": {
        "id": "7yx4LGMyogNH",
        "colab_type": "code",
        "colab": {
          "base_uri": "https://localhost:8080/",
          "height": 34
        },
        "outputId": "62edbdb0-a776-4267-f9f9-7d4a0c356354"
      },
      "cell_type": "code",
      "source": [
        "data.Age.median()\n"
      ],
      "execution_count": 48,
      "outputs": [
        {
          "output_type": "execute_result",
          "data": {
            "text/plain": [
              "68.0"
            ]
          },
          "metadata": {
            "tags": []
          },
          "execution_count": 48
        }
      ]
    },
    {
      "metadata": {
        "id": "gh0-4oUbof8_",
        "colab_type": "code",
        "colab": {
          "base_uri": "https://localhost:8080/",
          "height": 34
        },
        "outputId": "f7894740-da42-4dab-fb88-83f60ef47a87"
      },
      "cell_type": "code",
      "source": [
        "data.Age.mean()"
      ],
      "execution_count": 49,
      "outputs": [
        {
          "output_type": "execute_result",
          "data": {
            "text/plain": [
              "65.045"
            ]
          },
          "metadata": {
            "tags": []
          },
          "execution_count": 49
        }
      ]
    }
  ]
}